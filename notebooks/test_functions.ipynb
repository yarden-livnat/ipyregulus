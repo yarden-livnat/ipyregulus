{
 "cells": [
  {
   "cell_type": "code",
   "execution_count": 1,
   "metadata": {},
   "outputs": [
    {
     "ename": "ModuleNotFoundError",
     "evalue": "No module named 'ipyvolume'",
     "output_type": "error",
     "traceback": [
      "\u001b[0;31m---------------------------------------------------------------------------\u001b[0m",
      "\u001b[0;31mModuleNotFoundError\u001b[0m                       Traceback (most recent call last)",
      "\u001b[0;32m<ipython-input-1-20c15d0f1750>\u001b[0m in \u001b[0;36m<module>\u001b[0;34m\u001b[0m\n\u001b[1;32m      1\u001b[0m \u001b[0;32mimport\u001b[0m \u001b[0mnumpy\u001b[0m \u001b[0;32mas\u001b[0m \u001b[0mnp\u001b[0m\u001b[0;34m\u001b[0m\u001b[0;34m\u001b[0m\u001b[0m\n\u001b[0;32m----> 2\u001b[0;31m \u001b[0;32mimport\u001b[0m \u001b[0mipyvolume\u001b[0m \u001b[0;32mas\u001b[0m \u001b[0mp3\u001b[0m\u001b[0;34m\u001b[0m\u001b[0;34m\u001b[0m\u001b[0m\n\u001b[0m",
      "\u001b[0;31mModuleNotFoundError\u001b[0m: No module named 'ipyvolume'"
     ]
    }
   ],
   "source": [
    "import numpy as np\n",
    "import ipyvolume as p3"
   ]
  },
  {
   "cell_type": "code",
   "execution_count": 4,
   "metadata": {},
   "outputs": [
    {
     "data": {
      "application/vnd.jupyter.widget-view+json": {
       "model_id": "12b99b709c1c477abe1b43a16af723e2",
       "version_major": 2,
       "version_minor": 0
      },
      "text/plain": [
       "VBox(children=(Figure(camera_center=[0.0, 0.0, 0.0], height=500, matrix_projection=[0.0, 0.0, 0.0, 0.0, 0.0, 0…"
      ]
     },
     "metadata": {},
     "output_type": "display_data"
    }
   ],
   "source": [
    "# f(u, v) -> (u, v, u*v**2)\n",
    "a = np.arange(-5, 5)\n",
    "U, V = np.meshgrid(a, a)\n",
    "X = U\n",
    "Y = V\n",
    "Z = X*Y**2\n",
    "p3.figure()\n",
    "p3.plot_surface(X, Z, Y, color=\"orange\")\n",
    "p3.plot_wireframe(X, Z, Y, color=\"black\")\n",
    "p3.show()"
   ]
  },
  {
   "cell_type": "code",
   "execution_count": 5,
   "metadata": {},
   "outputs": [],
   "source": [
    "import random\n",
    "import math\n",
    "import numpy as np\n",
    "import scipy\n",
    "import copy"
   ]
  },
  {
   "cell_type": "code",
   "execution_count": 49,
   "metadata": {},
   "outputs": [],
   "source": [
    "def grid_2d(resolution=40):\n",
    "    \"\"\"\n",
    "    \"\"\"\n",
    "    x, y = np.mgrid[0:1:(resolution * 1j), 0:1:(resolution * 1j)]\n",
    "    return np.vstack([x.ravel(), y.ravel()]).T\n",
    "\n",
    "\n",
    "def unpack2D(_x):\n",
    "    \"\"\"\n",
    "        Helper function for splitting 2D data into x and y component to make\n",
    "        equations simpler\n",
    "    \"\"\"\n",
    "    _x = np.atleast_2d(_x)\n",
    "    x = _x[:, 0]\n",
    "    y = _x[:, 1]\n",
    "    return x, y"
   ]
  },
  {
   "cell_type": "code",
   "execution_count": 50,
   "metadata": {},
   "outputs": [],
   "source": [
    "def gerber(_x):\n",
    "    x, y = unpack2D(_x)\n",
    "    return ((2./4.) * np.exp(-((x-.25)**2)/0.09) +\n",
    "            (3./4.) * np.exp(-((y-.25)**2)/0.09) +\n",
    "            (3./4.) * np.exp(-((x-.75)**2)/0.01) +\n",
    "            (4./4.) * np.exp(-((y-.75)**2)/0.01))\n",
    "\n",
    "def gerber_rotated(_x):\n",
    "    theta = math.pi/6.\n",
    "    u, v = unpack2D(_x)\n",
    "    u = u + 0.0\n",
    "    v = v - 0.4\n",
    "    x = u*math.cos(theta) - v*math.sin(theta)\n",
    "    y = u*math.sin(theta) + v*math.cos(theta)\n",
    "    return ((2./4.) * np.exp(-((x-.25)**2)/0.09) +\n",
    "            (3./4.) * np.exp(-((y-.25)**2)/0.09) +\n",
    "            (3./4.) * np.exp(-((x-.75)**2)/0.01) +\n",
    "            (4./4.) * np.exp(-((y-.75)**2)/0.01))"
   ]
  },
  {
   "cell_type": "code",
   "execution_count": 51,
   "metadata": {},
   "outputs": [],
   "source": [
    "def gerber2(x, y):\n",
    "    return ((1.) * np.exp(-((x-.25)**2)/0.09) +\n",
    "            (1) * np.exp(-((x-.75)**2)/0.01) +\n",
    "            (1) * np.exp(-((y-.75)**2)/0.01))\n"
   ]
  },
  {
   "cell_type": "code",
   "execution_count": 52,
   "metadata": {},
   "outputs": [],
   "source": [
    "def gerber_bumpy(_x):\n",
    "    x, y = unpack2D(_x)\n",
    "    return (gerber(_x) +\n",
    "            (1/4.) * np.exp(-((x-0.25)**2+(y-0.25)**2)/0.09) +\n",
    "            local_bumps2(x, y, amplitude=1./8., cx=0.25, cy=0.25))"
   ]
  },
  {
   "cell_type": "code",
   "execution_count": 64,
   "metadata": {},
   "outputs": [
    {
     "ename": "ValueError",
     "evalue": "not enough values to unpack (expected 2, got 0)",
     "output_type": "error",
     "traceback": [
      "\u001b[0;31m---------------------------------------------------------------------------\u001b[0m",
      "\u001b[0;31mValueError\u001b[0m                                Traceback (most recent call last)",
      "\u001b[0;32m<ipython-input-64-d5f001420788>\u001b[0m in \u001b[0;36m<module>\u001b[0;34m()\u001b[0m\n\u001b[1;32m      5\u001b[0m \u001b[0my\u001b[0m\u001b[0;34m.\u001b[0m\u001b[0mreshape\u001b[0m\u001b[0;34m(\u001b[0m\u001b[0;36m40\u001b[0m\u001b[0;34m,\u001b[0m \u001b[0;36m40\u001b[0m\u001b[0;34m)\u001b[0m\u001b[0;34m\u001b[0m\u001b[0m\n\u001b[1;32m      6\u001b[0m \u001b[0mp3\u001b[0m\u001b[0;34m.\u001b[0m\u001b[0mfigure\u001b[0m\u001b[0;34m(\u001b[0m\u001b[0;34m)\u001b[0m\u001b[0;34m\u001b[0m\u001b[0m\n\u001b[0;32m----> 7\u001b[0;31m \u001b[0mp3\u001b[0m\u001b[0;34m.\u001b[0m\u001b[0mplot_surface\u001b[0m\u001b[0;34m(\u001b[0m\u001b[0mx\u001b[0m\u001b[0;34m,\u001b[0m \u001b[0mz\u001b[0m\u001b[0;34m,\u001b[0m \u001b[0my\u001b[0m\u001b[0;34m,\u001b[0m \u001b[0mcolor\u001b[0m\u001b[0;34m=\u001b[0m\u001b[0;34m\"orange\"\u001b[0m\u001b[0;34m)\u001b[0m\u001b[0;34m\u001b[0m\u001b[0m\n\u001b[0m\u001b[1;32m      8\u001b[0m \u001b[0mp3\u001b[0m\u001b[0;34m.\u001b[0m\u001b[0mplot_wireframe\u001b[0m\u001b[0;34m(\u001b[0m\u001b[0mx\u001b[0m\u001b[0;34m,\u001b[0m \u001b[0mz\u001b[0m\u001b[0;34m,\u001b[0m \u001b[0my\u001b[0m\u001b[0;34m,\u001b[0m \u001b[0mcolor\u001b[0m\u001b[0;34m=\u001b[0m\u001b[0;34m\"black\"\u001b[0m\u001b[0;34m)\u001b[0m\u001b[0;34m\u001b[0m\u001b[0m\n\u001b[1;32m      9\u001b[0m \u001b[0mp3\u001b[0m\u001b[0;34m.\u001b[0m\u001b[0mshow\u001b[0m\u001b[0;34m(\u001b[0m\u001b[0;34m)\u001b[0m\u001b[0;34m\u001b[0m\u001b[0m\n",
      "\u001b[0;32m~/miniconda3/envs/neup/lib/python3.6/site-packages/ipyvolume/pylab.py\u001b[0m in \u001b[0;36mplot_surface\u001b[0;34m(x, y, z, color, wrapx, wrapy)\u001b[0m\n\u001b[1;32m    233\u001b[0m     \u001b[0;34m:\u001b[0m\u001b[0;32mreturn\u001b[0m\u001b[0;34m:\u001b[0m \u001b[0;34m:\u001b[0m\u001b[0many\u001b[0m\u001b[0;34m:\u001b[0m\u001b[0;31m`\u001b[0m\u001b[0mMesh\u001b[0m\u001b[0;31m`\u001b[0m\u001b[0;34m\u001b[0m\u001b[0m\n\u001b[1;32m    234\u001b[0m     \"\"\"\n\u001b[0;32m--> 235\u001b[0;31m     \u001b[0;32mreturn\u001b[0m \u001b[0mplot_mesh\u001b[0m\u001b[0;34m(\u001b[0m\u001b[0mx\u001b[0m\u001b[0;34m,\u001b[0m \u001b[0my\u001b[0m\u001b[0;34m,\u001b[0m \u001b[0mz\u001b[0m\u001b[0;34m,\u001b[0m \u001b[0mcolor\u001b[0m\u001b[0;34m=\u001b[0m\u001b[0mcolor\u001b[0m\u001b[0;34m,\u001b[0m \u001b[0mwrapx\u001b[0m\u001b[0;34m=\u001b[0m\u001b[0mwrapx\u001b[0m\u001b[0;34m,\u001b[0m \u001b[0mwrapy\u001b[0m\u001b[0;34m=\u001b[0m\u001b[0mwrapy\u001b[0m\u001b[0;34m,\u001b[0m \u001b[0mwireframe\u001b[0m\u001b[0;34m=\u001b[0m\u001b[0;32mFalse\u001b[0m\u001b[0;34m)\u001b[0m\u001b[0;34m\u001b[0m\u001b[0m\n\u001b[0m\u001b[1;32m    236\u001b[0m \u001b[0;34m\u001b[0m\u001b[0m\n\u001b[1;32m    237\u001b[0m \u001b[0;34m\u001b[0m\u001b[0m\n",
      "\u001b[0;32m~/miniconda3/envs/neup/lib/python3.6/site-packages/ipyvolume/pylab.py\u001b[0m in \u001b[0;36mplot_mesh\u001b[0;34m(x, y, z, color, wireframe, surface, wrapx, wrapy, u, v, texture)\u001b[0m\n\u001b[1;32m    294\u001b[0m         \u001b[0mnx\u001b[0m\u001b[0;34m,\u001b[0m \u001b[0mny\u001b[0m \u001b[0;34m=\u001b[0m \u001b[0mshape\u001b[0m \u001b[0;34m=\u001b[0m \u001b[0mx\u001b[0m\u001b[0;34m.\u001b[0m\u001b[0mshape\u001b[0m\u001b[0;34m\u001b[0m\u001b[0m\n\u001b[1;32m    295\u001b[0m     \u001b[0;32melse\u001b[0m\u001b[0;34m:\u001b[0m\u001b[0;34m\u001b[0m\u001b[0m\n\u001b[0;32m--> 296\u001b[0;31m         \u001b[0mnx\u001b[0m\u001b[0;34m,\u001b[0m \u001b[0mny\u001b[0m \u001b[0;34m=\u001b[0m \u001b[0mshape\u001b[0m \u001b[0;34m=\u001b[0m \u001b[0mx\u001b[0m\u001b[0;34m[\u001b[0m\u001b[0;36m0\u001b[0m\u001b[0;34m]\u001b[0m\u001b[0;34m.\u001b[0m\u001b[0mshape\u001b[0m\u001b[0;34m\u001b[0m\u001b[0m\n\u001b[0m\u001b[1;32m    297\u001b[0m \u001b[0;34m\u001b[0m\u001b[0m\n\u001b[1;32m    298\u001b[0m     \u001b[0;32mdef\u001b[0m \u001b[0mreshape\u001b[0m\u001b[0;34m(\u001b[0m\u001b[0mar\u001b[0m\u001b[0;34m)\u001b[0m\u001b[0;34m:\u001b[0m\u001b[0;34m\u001b[0m\u001b[0m\n",
      "\u001b[0;31mValueError\u001b[0m: not enough values to unpack (expected 2, got 0)"
     ]
    }
   ],
   "source": [
    "pts = grid_2d()\n",
    "z = gerber(pts)\n",
    "x, y = unpack2D(pts)\n",
    "x.reshape(40, 40)\n",
    "y.reshape(40, 40)\n",
    "p3.figure()\n",
    "p3.plot_surface(x, z, y, color=\"orange\")\n",
    "p3.plot_wireframe(x, z, y, color=\"black\")\n",
    "p3.show()"
   ]
  },
  {
   "cell_type": "code",
   "execution_count": 63,
   "metadata": {},
   "outputs": [
    {
     "data": {
      "text/plain": [
       "(1600,)"
      ]
     },
     "execution_count": 63,
     "metadata": {},
     "output_type": "execute_result"
    }
   ],
   "source": [
    "x.shape"
   ]
  },
  {
   "cell_type": "code",
   "execution_count": 62,
   "metadata": {},
   "outputs": [
    {
     "data": {
      "text/plain": [
       "array([[[ 0.        ,  0.        ],\n",
       "        [ 0.        ,  0.02564103],\n",
       "        [ 0.        ,  0.05128205],\n",
       "        ..., \n",
       "        [ 0.        ,  0.94871795],\n",
       "        [ 0.        ,  0.97435897],\n",
       "        [ 0.        ,  1.        ]],\n",
       "\n",
       "       [[ 0.02564103,  0.        ],\n",
       "        [ 0.02564103,  0.02564103],\n",
       "        [ 0.02564103,  0.05128205],\n",
       "        ..., \n",
       "        [ 0.02564103,  0.94871795],\n",
       "        [ 0.02564103,  0.97435897],\n",
       "        [ 0.02564103,  1.        ]],\n",
       "\n",
       "       [[ 0.05128205,  0.        ],\n",
       "        [ 0.05128205,  0.02564103],\n",
       "        [ 0.05128205,  0.05128205],\n",
       "        ..., \n",
       "        [ 0.05128205,  0.94871795],\n",
       "        [ 0.05128205,  0.97435897],\n",
       "        [ 0.05128205,  1.        ]],\n",
       "\n",
       "       ..., \n",
       "       [[ 0.94871795,  0.        ],\n",
       "        [ 0.94871795,  0.02564103],\n",
       "        [ 0.94871795,  0.05128205],\n",
       "        ..., \n",
       "        [ 0.94871795,  0.94871795],\n",
       "        [ 0.94871795,  0.97435897],\n",
       "        [ 0.94871795,  1.        ]],\n",
       "\n",
       "       [[ 0.97435897,  0.        ],\n",
       "        [ 0.97435897,  0.02564103],\n",
       "        [ 0.97435897,  0.05128205],\n",
       "        ..., \n",
       "        [ 0.97435897,  0.94871795],\n",
       "        [ 0.97435897,  0.97435897],\n",
       "        [ 0.97435897,  1.        ]],\n",
       "\n",
       "       [[ 1.        ,  0.        ],\n",
       "        [ 1.        ,  0.02564103],\n",
       "        [ 1.        ,  0.05128205],\n",
       "        ..., \n",
       "        [ 1.        ,  0.94871795],\n",
       "        [ 1.        ,  0.97435897],\n",
       "        [ 1.        ,  1.        ]]])"
      ]
     },
     "execution_count": 62,
     "metadata": {},
     "output_type": "execute_result"
    }
   ],
   "source": [
    "pts.reshape(40, 40, 2)"
   ]
  },
  {
   "cell_type": "code",
   "execution_count": 58,
   "metadata": {},
   "outputs": [
    {
     "data": {
      "text/plain": [
       "array([[ 0.  ,  0.03,  0.06, ...,  0.93,  0.96,  0.99],\n",
       "       [ 0.  ,  0.03,  0.06, ...,  0.93,  0.96,  0.99],\n",
       "       [ 0.  ,  0.03,  0.06, ...,  0.93,  0.96,  0.99],\n",
       "       ..., \n",
       "       [ 0.  ,  0.03,  0.06, ...,  0.93,  0.96,  0.99],\n",
       "       [ 0.  ,  0.03,  0.06, ...,  0.93,  0.96,  0.99],\n",
       "       [ 0.  ,  0.03,  0.06, ...,  0.93,  0.96,  0.99]])"
      ]
     },
     "execution_count": 58,
     "metadata": {},
     "output_type": "execute_result"
    }
   ],
   "source": [
    "a = np.arange(0, 1, 0.03)\n",
    "X, Y = np.meshgrid(a, a)\n",
    "# Z = gerber2(X, Y)\n",
    "# p3.figure()\n",
    "# p3.plot_surface(X, Z, Y, color=\"orange\")\n",
    "# p3.plot_wireframe(X, Z, Y, color=\"black\")\n",
    "# p3.show()\n",
    "X"
   ]
  },
  {
   "cell_type": "code",
   "execution_count": null,
   "metadata": {},
   "outputs": [],
   "source": []
  }
 ],
 "metadata": {
  "kernelspec": {
   "display_name": "Python 3",
   "language": "python",
   "name": "python3"
  },
  "language_info": {
   "codemirror_mode": {
    "name": "ipython",
    "version": 3
   },
   "file_extension": ".py",
   "mimetype": "text/x-python",
   "name": "python",
   "nbconvert_exporter": "python",
   "pygments_lexer": "ipython3",
   "version": "3.7.6"
  }
 },
 "nbformat": 4,
 "nbformat_minor": 4
}
