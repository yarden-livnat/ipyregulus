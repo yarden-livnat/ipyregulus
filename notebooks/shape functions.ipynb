{
 "cells": [
  {
   "cell_type": "code",
   "execution_count": 2,
   "metadata": {},
   "outputs": [],
   "source": [
    "# import plotly.plotly as py\n",
    "import plotly.graph_objs as go\n",
    "\n",
    "import numpy as np\n",
    "import pandas as pd\n",
    "\n",
    "from math import exp, pi, sqrt"
   ]
  },
  {
   "cell_type": "code",
   "execution_count": 3,
   "metadata": {},
   "outputs": [],
   "source": [
    "layout = go.Layout(\n",
    "    title='Node data',\n",
    "    autosize=False,\n",
    "    width=600,\n",
    "    height=600,\n",
    "    margin=dict(\n",
    "        l=65,\n",
    "        r=50,\n",
    "        b=65,\n",
    "        t=90\n",
    "    )\n",
    ")"
   ]
  },
  {
   "cell_type": "code",
   "execution_count": 4,
   "metadata": {},
   "outputs": [],
   "source": [
    "def multivariate_gaussian(pos, mu, Sigma):\n",
    "    \"\"\"Return the multivariate Gaussian distribution on array pos.\n",
    "\n",
    "    pos is an array constructed by packing the meshed arrays of variables\n",
    "    x_1, x_2, x_3, ..., x_k into its _last_ dimension.\n",
    "\n",
    "    \"\"\"\n",
    "\n",
    "    n = mu.shape[0]\n",
    "    Sigma_det = np.linalg.det(Sigma)\n",
    "    Sigma_inv = np.linalg.inv(Sigma)\n",
    "    N = np.sqrt((2*np.pi)**n * Sigma_det)\n",
    "    # This einsum call calculates (x-mu)T.Sigma-1.(x-mu) in a vectorized\n",
    "    # way across all the input variables.\n",
    "    fac = np.einsum('...k,kl,...l->...', pos-mu, Sigma_inv, pos-mu)\n",
    "\n",
    "    return np.exp(-fac / 2) / N\n"
   ]
  },
  {
   "cell_type": "code",
   "execution_count": 5,
   "metadata": {},
   "outputs": [],
   "source": [
    "def norm(s):\n",
    "    return s/s.max()"
   ]
  },
  {
   "cell_type": "code",
   "execution_count": 6,
   "metadata": {},
   "outputs": [],
   "source": [
    "N = 50\n",
    "x = np.linspace(0, 1, N)\n",
    "y = np.linspace(0, 1, N)"
   ]
  },
  {
   "cell_type": "code",
   "execution_count": 7,
   "metadata": {},
   "outputs": [],
   "source": [
    "def evaluate(mu, sigma):\n",
    "    mx, my = np.meshgrid(x, y)\n",
    "    pos = np.empty(mx.shape + (2,))\n",
    "    pos[:,:,0] = mx\n",
    "    pos[:,:,1] = my\n",
    "    \n",
    "    return multivariate_gaussian(pos, mu, sigma)"
   ]
  },
  {
   "cell_type": "code",
   "execution_count": 8,
   "metadata": {},
   "outputs": [],
   "source": [
    "def evaluate_f(f):\n",
    "    mx, my = np.meshgrid(x, y)\n",
    "    pos = np.empty(mx.shape + (2,))\n",
    "    pos[:,:,0] = mx\n",
    "    pos[:,:,1] = my\n",
    "    \n",
    "    return f(pos)"
   ]
  },
  {
   "cell_type": "code",
   "execution_count": 9,
   "metadata": {},
   "outputs": [],
   "source": [
    "def surface(z):\n",
    "    return go.Surface(x=x, y=y, z=z)"
   ]
  },
  {
   "cell_type": "code",
   "execution_count": 10,
   "metadata": {},
   "outputs": [],
   "source": [
    "def draw(s):\n",
    "    return go.FigureWidget(data=s, layout=layout)"
   ]
  },
  {
   "cell_type": "code",
   "execution_count": 11,
   "metadata": {},
   "outputs": [],
   "source": [
    "sw = norm(evaluate(np.array([0.25, 0.85]), np.array([[0.1, 0], [0, 0.2]])))"
   ]
  },
  {
   "cell_type": "code",
   "execution_count": 12,
   "metadata": {},
   "outputs": [],
   "source": [
    "sn = norm(evaluate(np.array([0.75, 0.25]), np.array([[0.01, 0], [0, 0.01]])))"
   ]
  },
  {
   "cell_type": "code",
   "execution_count": 13,
   "metadata": {},
   "outputs": [],
   "source": [
    "sx = norm(evaluate(np.array([0.25, 0.25]), np.array([[0.10, 0], [0, 0.01]])))"
   ]
  },
  {
   "cell_type": "code",
   "execution_count": 14,
   "metadata": {},
   "outputs": [],
   "source": [
    "sy = norm(evaluate(np.array([0.75, 0.65]), np.array([[0.02, 0], [0, 0.15]])))"
   ]
  },
  {
   "cell_type": "code",
   "execution_count": 15,
   "metadata": {},
   "outputs": [
    {
     "data": {
      "application/vnd.jupyter.widget-view+json": {
       "model_id": "cf2d59e14fa5400abc08a44320fc3a94",
       "version_major": 2,
       "version_minor": 0
      },
      "text/plain": [
       "FigureWidget({\n",
       "    'data': [{'type': 'surface',\n",
       "              'uid': '9f614c3b-f85b-4e48-8f6d-d925ec4b99fa',\n",
       " …"
      ]
     },
     "metadata": {},
     "output_type": "display_data"
    }
   ],
   "source": [
    "s = norm(sw*1.4 + sx*0.8 + sy + sn*0.5)\n",
    "draw([surface(s)])"
   ]
  },
  {
   "cell_type": "code",
   "execution_count": 16,
   "metadata": {},
   "outputs": [
    {
     "data": {
      "application/vnd.jupyter.widget-view+json": {
       "model_id": "84b7745ee6134c17bf8305abcdb1f5d8",
       "version_major": 2,
       "version_minor": 0
      },
      "text/plain": [
       "FigureWidget({\n",
       "    'data': [{'type': 'surface',\n",
       "              'uid': 'd0057e6b-12b9-4a25-aa07-c66601a008c7',\n",
       " …"
      ]
     },
     "metadata": {},
     "output_type": "display_data"
    }
   ],
   "source": [
    "sw1 = evaluate(np.array([0.25, 0.85]), np.array([[0.1, 0], [0, 0.2]]))\n",
    "sn1 = evaluate(np.array([0.75, 0.25]), np.array([[0.01, 0], [0, 0.01]]))\n",
    "sx1 = evaluate(np.array([0.25, 0.25]), np.array([[0.10, 0], [0, 0.01]])) \n",
    "sy1 = evaluate(np.array([0.75, 0.65]), np.array([[0.02, 0], [0, 0.01]]))\n",
    "\n",
    "s1 = sw1*1.45 + sx1*0.7 + sy1*1.1 + sn1*0.6\n",
    "\n",
    "draw([surface(s1)])"
   ]
  },
  {
   "cell_type": "code",
   "execution_count": 17,
   "metadata": {},
   "outputs": [
    {
     "data": {
      "application/vnd.jupyter.widget-view+json": {
       "model_id": "1542a92d0f654a3a8deee5421e1c36d3",
       "version_major": 2,
       "version_minor": 0
      },
      "text/plain": [
       "FigureWidget({\n",
       "    'data': [{'type': 'surface',\n",
       "              'uid': 'e698eb8d-23fb-420a-90f2-b80e839c0144',\n",
       " …"
      ]
     },
     "metadata": {},
     "output_type": "display_data"
    }
   ],
   "source": [
    "fw = lambda pos: multivariate_gaussian(pos, np.array([0.25, 0.85]), np.array([[0.3, 0], [0, 0.2]]))\n",
    "fn = lambda pos: multivariate_gaussian(pos, np.array([0.75, 0.25]), np.array([[0.01, 0], [0, 0.01]]))\n",
    "fx = lambda pos: multivariate_gaussian(pos, np.array([0.25, 0.25]), np.array([[0.10, 0], [0, 0.1]])) \n",
    "fy = lambda pos: multivariate_gaussian(pos, np.array([0.75, 0.65]), np.array([[0.01, 0], [0, 0.15]]))\n",
    "f = lambda pos: fw(pos)*2.5 + fx(pos)/1 + fy(pos)/5 + fn(pos)/32\n",
    "draw([surface(evaluate_f(f))])"
   ]
  },
  {
   "cell_type": "markdown",
   "metadata": {},
   "source": [
    "## test 2"
   ]
  },
  {
   "cell_type": "code",
   "execution_count": null,
   "metadata": {},
   "outputs": [],
   "source": []
  },
  {
   "cell_type": "code",
   "execution_count": 18,
   "metadata": {},
   "outputs": [
    {
     "data": {
      "application/vnd.jupyter.widget-view+json": {
       "model_id": "9be5fdebbbcd43c5840300f716456a5a",
       "version_major": 2,
       "version_minor": 0
      },
      "text/plain": [
       "FigureWidget({\n",
       "    'data': [{'type': 'surface',\n",
       "              'uid': 'a00bd338-0566-4cbb-b627-f10536e70637',\n",
       " …"
      ]
     },
     "metadata": {},
     "output_type": "display_data"
    }
   ],
   "source": [
    "t1 = norm(evaluate(np.array([0.25, 0.5]), np.array([[0.20, 0.1], [0, 0.1]])))\n",
    "t2 = norm(evaluate(np.array([0.75, 0.5]), np.array([[0.05, 0], [0, 0.1]])))\n",
    "tx = norm(t1+t2/2)\n",
    "draw([surface(tx)])"
   ]
  },
  {
   "cell_type": "code",
   "execution_count": null,
   "metadata": {},
   "outputs": [],
   "source": []
  }
 ],
 "metadata": {
  "kernelspec": {
   "display_name": "Python 3",
   "language": "python",
   "name": "python3"
  },
  "language_info": {
   "codemirror_mode": {
    "name": "ipython",
    "version": 3
   },
   "file_extension": ".py",
   "mimetype": "text/x-python",
   "name": "python",
   "nbconvert_exporter": "python",
   "pygments_lexer": "ipython3",
   "version": "3.7.6"
  }
 },
 "nbformat": 4,
 "nbformat_minor": 4
}
