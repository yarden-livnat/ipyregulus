{
 "cells": [
  {
   "cell_type": "code",
   "execution_count": 3,
   "metadata": {},
   "outputs": [],
   "source": [
    "import ipywidgets as widgets\n",
    "from ipywidgets import link, FloatSlider\n",
    "\n",
    "\n",
    "from sidepanel import SidePanel\n",
    "\n",
    "import regulus\n",
    "from ipyregulus import TreeView, DetailsView"
   ]
  },
  {
   "cell_type": "code",
   "execution_count": 4,
   "metadata": {},
   "outputs": [],
   "source": [
    "gauss = regulus.load('gauss4')"
   ]
  },
  {
   "cell_type": "markdown",
   "metadata": {},
   "source": [
    "#### Create TreeView and DetailsView in to separate side panels"
   ]
  },
  {
   "cell_type": "code",
   "execution_count": 3,
   "metadata": {},
   "outputs": [],
   "source": [
    "tv = TreeView(gauss)\n",
    "tp = SidePanel(tv, title='Tree')"
   ]
  },
  {
   "cell_type": "code",
   "execution_count": 4,
   "metadata": {},
   "outputs": [],
   "source": [
    "dv = DetailsView(data=gauss)\n",
    "dp = SidePanel(dv, title='Details')"
   ]
  },
  {
   "cell_type": "markdown",
   "metadata": {},
   "source": [
    "#### Link the two views and select nodes "
   ]
  },
  {
   "cell_type": "code",
   "execution_count": 5,
   "metadata": {},
   "outputs": [],
   "source": [
    "link((tv.view, 'details'), (dv, 'show'));\n",
    "link((tv.view, 'highlight'), (dv, 'highlight'));"
   ]
  },
  {
   "cell_type": "code",
   "execution_count": null,
   "metadata": {},
   "outputs": [],
   "source": []
  },
  {
   "cell_type": "code",
   "execution_count": 7,
   "metadata": {},
   "outputs": [],
   "source": [
    "tv2 = TreeView(gauss, attr='unique_max')\n",
    "tp2 = SidePanel(tv2)\n",
    "link((tv.view, 'details'), (tv2.view, 'details'))\n",
    "link((tv.view, 'highlight'), (tv2.view, 'highlight'));"
   ]
  },
  {
   "cell_type": "code",
   "execution_count": null,
   "metadata": {},
   "outputs": [],
   "source": []
  },
  {
   "cell_type": "markdown",
   "metadata": {},
   "source": [
    "### click on tree nodes to show/remove them in the details view\n",
    "- a partition view can also be removed by clicking on it in the details view"
   ]
  },
  {
   "cell_type": "code",
   "execution_count": 6,
   "metadata": {},
   "outputs": [],
   "source": [
    "def select_persistence(data, view):\n",
    "    def _select(v):\n",
    "        view.details = [ p.id for p in data.tree.at_persistence(v)]\n",
    "    return _select"
   ]
  },
  {
   "cell_type": "code",
   "execution_count": 7,
   "metadata": {},
   "outputs": [
    {
     "data": {
      "application/vnd.jupyter.widget-view+json": {
       "model_id": "c703eaff94434a909ad095f7da246a68",
       "version_major": 2,
       "version_minor": 0
      },
      "text/plain": [
       "interactive(children=(FloatSlider(value=0.5, description='v', max=1.0, step=0.001), Output()), _dom_classes=('…"
      ]
     },
     "metadata": {},
     "output_type": "display_data"
    }
   ],
   "source": [
    "ps = FloatSlider(min=0, max=1, step=0.001, value=0.5)\n",
    "widgets.interact(select_persistence(gauss, tv.view), v=ps);\n",
    "tp.add(ps, header='Persistence', expand=False);"
   ]
  },
  {
   "cell_type": "code",
   "execution_count": null,
   "metadata": {},
   "outputs": [],
   "source": []
  }
 ],
 "metadata": {
  "kernelspec": {
   "display_name": "Python 3",
   "language": "python",
   "name": "python3"
  },
  "language_info": {
   "codemirror_mode": {
    "name": "ipython",
    "version": 3
   },
   "file_extension": ".py",
   "mimetype": "text/x-python",
   "name": "python",
   "nbconvert_exporter": "python",
   "pygments_lexer": "ipython3",
   "version": "3.7.6"
  },
  "widgets": {
   "application/vnd.jupyter.widget-state+json": {
    "state": {},
    "version_major": 2,
    "version_minor": 0
   }
  }
 },
 "nbformat": 4,
 "nbformat_minor": 4
}
