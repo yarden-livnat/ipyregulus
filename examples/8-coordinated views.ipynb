{
 "cells": [
  {
   "cell_type": "code",
   "execution_count": 1,
   "metadata": {},
   "outputs": [],
   "source": [
    "from ipywidgets import link\n",
    "from sidepanel import SidePanel\n",
    "import regulus\n",
    "from ipyregulus import BaseTreeView, TreeView"
   ]
  },
  {
   "cell_type": "code",
   "execution_count": 2,
   "metadata": {},
   "outputs": [],
   "source": [
    "gauss = regulus.load('gauss4')"
   ]
  },
  {
   "cell_type": "code",
   "execution_count": 3,
   "metadata": {},
   "outputs": [],
   "source": [
    "v1 = TreeView(gauss)\n",
    "v2 = TreeView(gauss, x=(750, 1800), y=(0.0, 0.5))\n",
    "v3 = TreeView(gauss, attr='parent_fitness')"
   ]
  },
  {
   "cell_type": "code",
   "execution_count": 12,
   "metadata": {},
   "outputs": [],
   "source": [
    "link((v1, \"attr\"), (v2, \"attr\"))\n",
    "link((v2, 'x'), (v3, 'x'))\n",
    "link((v2, 'y'), (v3, 'y'));"
   ]
  },
  {
   "cell_type": "code",
   "execution_count": 13,
   "metadata": {},
   "outputs": [],
   "source": [
    "sp = SidePanel([(v1, 'overview'), \n",
    "                (v2, 'ROI'),\n",
    "                (v3, 'ROI + measure')], \n",
    "               title=\"Overview and details\")"
   ]
  },
  {
   "cell_type": "code",
   "execution_count": null,
   "metadata": {},
   "outputs": [],
   "source": []
  }
 ],
 "metadata": {
  "kernelspec": {
   "display_name": "Python 3",
   "language": "python",
   "name": "python3"
  },
  "language_info": {
   "codemirror_mode": {
    "name": "ipython",
    "version": 3
   },
   "file_extension": ".py",
   "mimetype": "text/x-python",
   "name": "python",
   "nbconvert_exporter": "python",
   "pygments_lexer": "ipython3",
   "version": "3.7.4"
  }
 },
 "nbformat": 4,
 "nbformat_minor": 4
}
