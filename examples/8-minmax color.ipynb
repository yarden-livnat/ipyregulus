{
 "cells": [
  {
   "cell_type": "code",
   "execution_count": 1,
   "metadata": {},
   "outputs": [],
   "source": [
    "import random\n",
    "import ipywidgets as widgets\n",
    "\n",
    "from sidepanel import SidePanel\n",
    "\n",
    "import regulus\n",
    "from regulus.core import UNIT_RANGE\n",
    "from ipyregulus import BaseTreeView, TreeView"
   ]
  },
  {
   "cell_type": "code",
   "execution_count": 2,
   "metadata": {},
   "outputs": [],
   "source": [
    "gauss = regulus.load('gauss4')"
   ]
  },
  {
   "cell_type": "markdown",
   "metadata": {},
   "source": [
    "### Associate a random color id to a point"
   ]
  },
  {
   "cell_type": "code",
   "execution_count": 3,
   "metadata": {},
   "outputs": [],
   "source": [
    "def cmap_id(context, id):\n",
    "    return random.uniform(0,1)\n",
    "gauss.add_attr(cmap_id)"
   ]
  },
  {
   "cell_type": "markdown",
   "metadata": {},
   "source": [
    "### Assign color based on max/min in the partition"
   ]
  },
  {
   "cell_type": "code",
   "execution_count": 4,
   "metadata": {},
   "outputs": [],
   "source": [
    "def max_color(tree, node):\n",
    "    id = node.data.minmax_idx[1]\n",
    "    return tree['cmap_id'][id]\n",
    "gauss.tree.add_attr(max_color, range=UNIT_RANGE)"
   ]
  },
  {
   "cell_type": "code",
   "execution_count": 5,
   "metadata": {},
   "outputs": [],
   "source": [
    "def min_color(tree, node):\n",
    "    id = node.data.minmax_idx[0]\n",
    "    return tree['cmap_id'][id]\n",
    "gauss.tree.add_attr(min_color, range=UNIT_RANGE)"
   ]
  },
  {
   "cell_type": "markdown",
   "metadata": {},
   "source": [
    "### View the tree"
   ]
  },
  {
   "cell_type": "code",
   "execution_count": 6,
   "metadata": {},
   "outputs": [],
   "source": [
    "v = TreeView(gauss)\n",
    "sp = SidePanel(v)"
   ]
  },
  {
   "cell_type": "code",
   "execution_count": 7,
   "metadata": {},
   "outputs": [],
   "source": [
    "v.add_attr('max_color')"
   ]
  },
  {
   "cell_type": "code",
   "execution_count": 8,
   "metadata": {},
   "outputs": [],
   "source": [
    "v.add_attr('min_color')"
   ]
  },
  {
   "cell_type": "markdown",
   "metadata": {},
   "source": [
    "### restricted version"
   ]
  },
  {
   "cell_type": "code",
   "execution_count": 20,
   "metadata": {},
   "outputs": [],
   "source": [
    "def cmap_id(context, id):\n",
    "    if id < 0:\n",
    "        return random.uniform(0,0.5) \n",
    "    return random.uniform(0.5,1)\n",
    "gauss.add_attr(cmap_id)"
   ]
  },
  {
   "cell_type": "code",
   "execution_count": null,
   "metadata": {},
   "outputs": [],
   "source": [
    "def min_color(tree, node):\n",
    "    id = node.data.minmax_idx[0]\n",
    "    return tree['cmap_id'][id]\n",
    "gauss.tree.add_attr(min_color, range=UNIT_RANGE)"
   ]
  },
  {
   "cell_type": "code",
   "execution_count": 13,
   "metadata": {},
   "outputs": [
    {
     "data": {
      "application/vnd.jupyter.widget-view+json": {
       "model_id": "927e4766924945ebb2263025cddb44a6",
       "version_major": 2,
       "version_minor": 0
      },
      "text/plain": [
       "TreeView(children=(HBox(children=(Dropdown(description='Attribute:', index=7, options=('span', 'fitness', 'par…"
      ]
     },
     "metadata": {},
     "output_type": "display_data"
    }
   ],
   "source": [
    "v = TreeView(gauss)\n",
    "v.add_attr('max_color')\n",
    "v.add_attr('min_color')\n",
    "v"
   ]
  },
  {
   "cell_type": "code",
   "execution_count": null,
   "metadata": {},
   "outputs": [],
   "source": []
  }
 ],
 "metadata": {
  "kernelspec": {
   "display_name": "Python 3",
   "language": "python",
   "name": "python3"
  },
  "language_info": {
   "codemirror_mode": {
    "name": "ipython",
    "version": 3
   },
   "file_extension": ".py",
   "mimetype": "text/x-python",
   "name": "python",
   "nbconvert_exporter": "python",
   "pygments_lexer": "ipython3",
   "version": "3.7.6"
  }
 },
 "nbformat": 4,
 "nbformat_minor": 4
}
